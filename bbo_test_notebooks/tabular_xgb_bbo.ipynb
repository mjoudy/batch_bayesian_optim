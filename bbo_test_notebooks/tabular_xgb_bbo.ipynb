{
 "cells": [
  {
   "cell_type": "code",
   "execution_count": 47,
   "id": "6b100467",
   "metadata": {},
   "outputs": [],
   "source": [
    "import numpy as np\n",
    "import pandas as pd\n",
    "import matplotlib.pyplot as plt\n",
    "import torch\n",
    "from sklearn.datasets import fetch_covtype\n",
    "from sklearn.datasets import fetch_california_housing\n",
    "from sklearn.model_selection import train_test_split\n",
    "from sklearn.metrics import mean_squared_error, r2_score\n",
    "from sklearn.metrics import accuracy_score\n",
    "import xgboost as xgb"
   ]
  },
  {
   "cell_type": "code",
   "execution_count": 41,
   "id": "6b86e884",
   "metadata": {},
   "outputs": [],
   "source": [
    "from botorch.utils.sampling import draw_sobol_samples\n",
    "from botorch.models import SingleTaskGP\n",
    "from botorch.fit import fit_gpytorch_mll\n",
    "from gpytorch.mlls import ExactMarginalLogLikelihood\n",
    "from botorch.acquisition import qExpectedImprovement\n",
    "from botorch.sampling.normal import SobolQMCNormalSampler\n",
    "from botorch.optim import optimize_acqf"
   ]
  },
  {
   "cell_type": "markdown",
   "id": "e81ffeb9",
   "metadata": {},
   "source": [
    "✅ Start with initial samples → explore space  \n",
    "✅ Build GP surrogate model  \n",
    "✅ Use acquisition function (qEI) to select new batch  \n",
    "✅ Evaluate batch → update model  \n",
    "✅ Repeat → the GP gets better over time → faster convergence  "
   ]
  },
  {
   "cell_type": "code",
   "execution_count": 20,
   "id": "64d11663",
   "metadata": {},
   "outputs": [],
   "source": [
    "#data = fetch_covtype()\n",
    "data = fetch_california_housing()\n",
    "X = data.data\n",
    "y = data.target"
   ]
  },
  {
   "cell_type": "code",
   "execution_count": 22,
   "id": "aa9b4d4f",
   "metadata": {},
   "outputs": [
    {
     "data": {
      "text/html": [
       "<div>\n",
       "<style scoped>\n",
       "    .dataframe tbody tr th:only-of-type {\n",
       "        vertical-align: middle;\n",
       "    }\n",
       "\n",
       "    .dataframe tbody tr th {\n",
       "        vertical-align: top;\n",
       "    }\n",
       "\n",
       "    .dataframe thead th {\n",
       "        text-align: right;\n",
       "    }\n",
       "</style>\n",
       "<table border=\"1\" class=\"dataframe\">\n",
       "  <thead>\n",
       "    <tr style=\"text-align: right;\">\n",
       "      <th></th>\n",
       "      <th>MedInc</th>\n",
       "      <th>HouseAge</th>\n",
       "      <th>AveRooms</th>\n",
       "      <th>AveBedrms</th>\n",
       "      <th>Population</th>\n",
       "      <th>AveOccup</th>\n",
       "      <th>Latitude</th>\n",
       "      <th>Longitude</th>\n",
       "      <th>MedHouseVal</th>\n",
       "    </tr>\n",
       "  </thead>\n",
       "  <tbody>\n",
       "    <tr>\n",
       "      <th>0</th>\n",
       "      <td>8.3252</td>\n",
       "      <td>41.0</td>\n",
       "      <td>6.984127</td>\n",
       "      <td>1.023810</td>\n",
       "      <td>322.0</td>\n",
       "      <td>2.555556</td>\n",
       "      <td>37.88</td>\n",
       "      <td>-122.23</td>\n",
       "      <td>4.526</td>\n",
       "    </tr>\n",
       "    <tr>\n",
       "      <th>1</th>\n",
       "      <td>8.3014</td>\n",
       "      <td>21.0</td>\n",
       "      <td>6.238137</td>\n",
       "      <td>0.971880</td>\n",
       "      <td>2401.0</td>\n",
       "      <td>2.109842</td>\n",
       "      <td>37.86</td>\n",
       "      <td>-122.22</td>\n",
       "      <td>3.585</td>\n",
       "    </tr>\n",
       "    <tr>\n",
       "      <th>2</th>\n",
       "      <td>7.2574</td>\n",
       "      <td>52.0</td>\n",
       "      <td>8.288136</td>\n",
       "      <td>1.073446</td>\n",
       "      <td>496.0</td>\n",
       "      <td>2.802260</td>\n",
       "      <td>37.85</td>\n",
       "      <td>-122.24</td>\n",
       "      <td>3.521</td>\n",
       "    </tr>\n",
       "    <tr>\n",
       "      <th>3</th>\n",
       "      <td>5.6431</td>\n",
       "      <td>52.0</td>\n",
       "      <td>5.817352</td>\n",
       "      <td>1.073059</td>\n",
       "      <td>558.0</td>\n",
       "      <td>2.547945</td>\n",
       "      <td>37.85</td>\n",
       "      <td>-122.25</td>\n",
       "      <td>3.413</td>\n",
       "    </tr>\n",
       "    <tr>\n",
       "      <th>4</th>\n",
       "      <td>3.8462</td>\n",
       "      <td>52.0</td>\n",
       "      <td>6.281853</td>\n",
       "      <td>1.081081</td>\n",
       "      <td>565.0</td>\n",
       "      <td>2.181467</td>\n",
       "      <td>37.85</td>\n",
       "      <td>-122.25</td>\n",
       "      <td>3.422</td>\n",
       "    </tr>\n",
       "  </tbody>\n",
       "</table>\n",
       "</div>"
      ],
      "text/plain": [
       "   MedInc  HouseAge  AveRooms  AveBedrms  Population  AveOccup  Latitude  \\\n",
       "0  8.3252      41.0  6.984127   1.023810       322.0  2.555556     37.88   \n",
       "1  8.3014      21.0  6.238137   0.971880      2401.0  2.109842     37.86   \n",
       "2  7.2574      52.0  8.288136   1.073446       496.0  2.802260     37.85   \n",
       "3  5.6431      52.0  5.817352   1.073059       558.0  2.547945     37.85   \n",
       "4  3.8462      52.0  6.281853   1.081081       565.0  2.181467     37.85   \n",
       "\n",
       "   Longitude  MedHouseVal  \n",
       "0    -122.23        4.526  \n",
       "1    -122.22        3.585  \n",
       "2    -122.24        3.521  \n",
       "3    -122.25        3.413  \n",
       "4    -122.25        3.422  "
      ]
     },
     "execution_count": 22,
     "metadata": {},
     "output_type": "execute_result"
    }
   ],
   "source": [
    "df = pd.DataFrame(X, columns=data.feature_names)\n",
    "df['MedHouseVal'] = y\n",
    "df.head()"
   ]
  },
  {
   "cell_type": "code",
   "execution_count": 34,
   "id": "88b3aec4",
   "metadata": {},
   "outputs": [
    {
     "name": "stdout",
     "output_type": "stream",
     "text": [
      "<class 'pandas.core.frame.DataFrame'>\n",
      "RangeIndex: 20640 entries, 0 to 20639\n",
      "Data columns (total 9 columns):\n",
      " #   Column       Non-Null Count  Dtype  \n",
      "---  ------       --------------  -----  \n",
      " 0   MedInc       20640 non-null  float64\n",
      " 1   HouseAge     20640 non-null  float64\n",
      " 2   AveRooms     20640 non-null  float64\n",
      " 3   AveBedrms    20640 non-null  float64\n",
      " 4   Population   20640 non-null  float64\n",
      " 5   AveOccup     20640 non-null  float64\n",
      " 6   Latitude     20640 non-null  float64\n",
      " 7   Longitude    20640 non-null  float64\n",
      " 8   MedHouseVal  20640 non-null  float64\n",
      "dtypes: float64(9)\n",
      "memory usage: 1.4 MB\n"
     ]
    }
   ],
   "source": [
    "df.info()"
   ]
  },
  {
   "cell_type": "code",
   "execution_count": 23,
   "id": "52f61609",
   "metadata": {},
   "outputs": [],
   "source": [
    "X_train, X_val, y_train, y_val = train_test_split(X, y, test_size=0.2, random_state=42)"
   ]
  },
  {
   "cell_type": "code",
   "execution_count": 31,
   "id": "6f9850c5",
   "metadata": {},
   "outputs": [],
   "source": [
    "def train_evaluate(params):\n",
    "    params = {\n",
    "        'learning_rate': float(params[0]),\n",
    "        'max_depth': int(params[1]),\n",
    "        'min_child_weight': float(params[2]),\n",
    "        'subsample': float(params[3]),\n",
    "        'colsample_bytree': float(params[4]),\n",
    "        'gamma': float(params[5]),\n",
    "        'lambda': float(params[6]),\n",
    "        'alpha': float(params[7]),\n",
    "        'objective': 'reg:squarederror',\n",
    "        'eval_metric': 'rmse',\n",
    "        'verbosity': 0\n",
    "    }\n",
    "    \n",
    "    # Train model\n",
    "    model = xgb.XGBRegressor(**params)\n",
    "    model.fit(X_train, y_train)\n",
    "    \n",
    "    # Predict and evaluate\n",
    "    y_pred = model.predict(X_val)\n",
    "    # For example, use negative MSE as objective to maximize\n",
    "    score = -mean_squared_error(y_val, y_pred)\n",
    "    return score"
   ]
  },
  {
   "cell_type": "code",
   "execution_count": 28,
   "id": "a3eb910f",
   "metadata": {},
   "outputs": [],
   "source": [
    "# Define bounds for each hyperparameter\n",
    "bounds = torch.tensor([\n",
    "    [0.01, 0.3],    # learning_rate\n",
    "    [3, 10],        # max_depth\n",
    "    [1, 10],        # min_child_weight\n",
    "    [0.5, 1.0],     # subsample\n",
    "    [0.5, 1.0],     # colsample_bytree\n",
    "    [0, 5],         # gamma\n",
    "    [0, 5],         # lambda\n",
    "    [0, 5]          # alpha\n",
    "], dtype=torch.double).T  # shape (2, d)\n",
    "\n",
    "# Number of parameters\n",
    "dim = bounds.shape[0]\n"
   ]
  },
  {
   "cell_type": "code",
   "execution_count": 32,
   "id": "41e10b4e",
   "metadata": {},
   "outputs": [],
   "source": [
    "# 2️⃣ Generate initial samples:\n",
    "n_initial = 20\n",
    "\n",
    "train_x = draw_sobol_samples(bounds=bounds, n=n_initial, q=1).squeeze(-2)\n",
    "\n",
    "# 3️⃣ Evaluate objective:\n",
    "train_obj = torch.tensor([train_evaluate(x) for x in train_x], dtype=torch.double).unsqueeze(-1)"
   ]
  },
  {
   "cell_type": "code",
   "execution_count": null,
   "id": "97347b02",
   "metadata": {},
   "outputs": [
    {
     "name": "stderr",
     "output_type": "stream",
     "text": [
      "/home/mjoudy/miniconda3/envs/bbo_env/lib/python3.10/site-packages/botorch/models/utils/assorted.py:270: InputDataWarning: Data (input features) is not contained to the unit cube. Please consider min-max scaling the input data.\n",
      "  check_min_max_scaling(\n"
     ]
    },
    {
     "data": {
      "text/plain": [
       "ExactMarginalLogLikelihood(\n",
       "  (likelihood): GaussianLikelihood(\n",
       "    (noise_covar): HomoskedasticNoise(\n",
       "      (noise_prior): LogNormalPrior()\n",
       "      (raw_noise_constraint): GreaterThan(1.000E-04)\n",
       "    )\n",
       "  )\n",
       "  (model): SingleTaskGP(\n",
       "    (likelihood): GaussianLikelihood(\n",
       "      (noise_covar): HomoskedasticNoise(\n",
       "        (noise_prior): LogNormalPrior()\n",
       "        (raw_noise_constraint): GreaterThan(1.000E-04)\n",
       "      )\n",
       "    )\n",
       "    (mean_module): ConstantMean()\n",
       "    (covar_module): RBFKernel(\n",
       "      (lengthscale_prior): LogNormalPrior()\n",
       "      (raw_lengthscale_constraint): GreaterThan(2.500E-02)\n",
       "    )\n",
       "    (outcome_transform): Standardize()\n",
       "  )\n",
       ")"
      ]
     },
     "execution_count": 35,
     "metadata": {},
     "output_type": "execute_result"
    }
   ],
   "source": [
    "# Build GP model\n",
    "model = SingleTaskGP(train_x, train_obj)\n",
    "\n",
    "# Define Marginal Log-Likelihood (objective for GP training)\n",
    "mll = ExactMarginalLogLikelihood(model.likelihood, model)\n",
    "\n",
    "# Fit the GP model to current data\n",
    "fit_gpytorch_mll(mll)"
   ]
  },
  {
   "cell_type": "code",
   "execution_count": null,
   "id": "2996e55d",
   "metadata": {},
   "outputs": [
    {
     "name": "stderr",
     "output_type": "stream",
     "text": [
      "/home/mjoudy/miniconda3/envs/bbo_env/lib/python3.10/site-packages/botorch/acquisition/monte_carlo.py:396: NumericsWarning: qExpectedImprovement has known numerical issues that lead to suboptimal optimization performance. It is strongly recommended to simply replace\n",
      "\n",
      "\t qExpectedImprovement \t --> \t qLogExpectedImprovement \n",
      "\n",
      "instead, which fixes the issues and has the same API. See https://arxiv.org/abs/2310.20708 for details.\n",
      "  legacy_ei_numerics_warning(legacy_name=type(self).__name__)\n"
     ]
    }
   ],
   "source": [
    "sampler = SobolQMCNormalSampler(sample_shape=torch.Size([500]))\n",
    "\n",
    "# Define acquisition function\n",
    "qEI = qExpectedImprovement(\n",
    "    model=model, \n",
    "    best_f=train_obj.max(),\n",
    "    sampler=sampler\n",
    ")"
   ]
  },
  {
   "cell_type": "code",
   "execution_count": null,
   "id": "65bd9723",
   "metadata": {},
   "outputs": [],
   "source": [
    "# Batch size — how many new points to evaluate per iteration\n",
    "batch_size = 5\n",
    "\n",
    "# Optimize acquisition function\n",
    "candidates, _ = optimize_acqf(\n",
    "    acq_function=qEI,\n",
    "    bounds=bounds,\n",
    "    q=batch_size,\n",
    "    num_restarts=10,\n",
    "    raw_samples=100\n",
    ")\n"
   ]
  },
  {
   "cell_type": "code",
   "execution_count": 42,
   "id": "c213433f",
   "metadata": {},
   "outputs": [
    {
     "name": "stderr",
     "output_type": "stream",
     "text": [
      "/home/mjoudy/miniconda3/envs/bbo_env/lib/python3.10/site-packages/botorch/models/utils/assorted.py:270: InputDataWarning: Data (input features) is not contained to the unit cube. Please consider min-max scaling the input data.\n",
      "  check_min_max_scaling(\n"
     ]
    },
    {
     "data": {
      "text/plain": [
       "ExactMarginalLogLikelihood(\n",
       "  (likelihood): GaussianLikelihood(\n",
       "    (noise_covar): HomoskedasticNoise(\n",
       "      (noise_prior): LogNormalPrior()\n",
       "      (raw_noise_constraint): GreaterThan(1.000E-04)\n",
       "    )\n",
       "  )\n",
       "  (model): SingleTaskGP(\n",
       "    (likelihood): GaussianLikelihood(\n",
       "      (noise_covar): HomoskedasticNoise(\n",
       "        (noise_prior): LogNormalPrior()\n",
       "        (raw_noise_constraint): GreaterThan(1.000E-04)\n",
       "      )\n",
       "    )\n",
       "    (mean_module): ConstantMean()\n",
       "    (covar_module): RBFKernel(\n",
       "      (lengthscale_prior): LogNormalPrior()\n",
       "      (raw_lengthscale_constraint): GreaterThan(2.500E-02)\n",
       "    )\n",
       "    (outcome_transform): Standardize()\n",
       "  )\n",
       ")"
      ]
     },
     "execution_count": 42,
     "metadata": {},
     "output_type": "execute_result"
    }
   ],
   "source": [
    "# Evaluate new candidates\n",
    "new_obj = torch.tensor([train_evaluate(x) for x in candidates], dtype=torch.double).unsqueeze(-1)\n",
    "\n",
    "# Update training data\n",
    "train_x = torch.cat([train_x, candidates], dim=0)\n",
    "train_obj = torch.cat([train_obj, new_obj], dim=0)\n",
    "\n",
    "# Refit GP model on updated data\n",
    "model = SingleTaskGP(train_x, train_obj)\n",
    "mll = ExactMarginalLogLikelihood(model.likelihood, model)\n",
    "fit_gpytorch_mll(mll)\n"
   ]
  },
  {
   "cell_type": "code",
   "execution_count": 45,
   "id": "a87c4956",
   "metadata": {},
   "outputs": [
    {
     "name": "stdout",
     "output_type": "stream",
     "text": [
      "\n",
      "=== Iteration 1 ===\n"
     ]
    },
    {
     "name": "stderr",
     "output_type": "stream",
     "text": [
      "/home/mjoudy/miniconda3/envs/bbo_env/lib/python3.10/site-packages/botorch/acquisition/monte_carlo.py:396: NumericsWarning: qExpectedImprovement has known numerical issues that lead to suboptimal optimization performance. It is strongly recommended to simply replace\n",
      "\n",
      "\t qExpectedImprovement \t --> \t qLogExpectedImprovement \n",
      "\n",
      "instead, which fixes the issues and has the same API. See https://arxiv.org/abs/2310.20708 for details.\n",
      "  legacy_ei_numerics_warning(legacy_name=type(self).__name__)\n",
      "/home/mjoudy/miniconda3/envs/bbo_env/lib/python3.10/site-packages/botorch/models/utils/assorted.py:270: InputDataWarning: Data (input features) is not contained to the unit cube. Please consider min-max scaling the input data.\n",
      "  check_min_max_scaling(\n"
     ]
    },
    {
     "name": "stdout",
     "output_type": "stream",
     "text": [
      "Current best R²: -0.1930\n",
      "\n",
      "=== Iteration 2 ===\n"
     ]
    },
    {
     "name": "stderr",
     "output_type": "stream",
     "text": [
      "/home/mjoudy/miniconda3/envs/bbo_env/lib/python3.10/site-packages/botorch/acquisition/monte_carlo.py:396: NumericsWarning: qExpectedImprovement has known numerical issues that lead to suboptimal optimization performance. It is strongly recommended to simply replace\n",
      "\n",
      "\t qExpectedImprovement \t --> \t qLogExpectedImprovement \n",
      "\n",
      "instead, which fixes the issues and has the same API. See https://arxiv.org/abs/2310.20708 for details.\n",
      "  legacy_ei_numerics_warning(legacy_name=type(self).__name__)\n",
      "/home/mjoudy/miniconda3/envs/bbo_env/lib/python3.10/site-packages/botorch/models/utils/assorted.py:270: InputDataWarning: Data (input features) is not contained to the unit cube. Please consider min-max scaling the input data.\n",
      "  check_min_max_scaling(\n"
     ]
    },
    {
     "name": "stdout",
     "output_type": "stream",
     "text": [
      "Current best R²: -0.1930\n",
      "\n",
      "=== Iteration 3 ===\n"
     ]
    },
    {
     "name": "stderr",
     "output_type": "stream",
     "text": [
      "/home/mjoudy/miniconda3/envs/bbo_env/lib/python3.10/site-packages/botorch/acquisition/monte_carlo.py:396: NumericsWarning: qExpectedImprovement has known numerical issues that lead to suboptimal optimization performance. It is strongly recommended to simply replace\n",
      "\n",
      "\t qExpectedImprovement \t --> \t qLogExpectedImprovement \n",
      "\n",
      "instead, which fixes the issues and has the same API. See https://arxiv.org/abs/2310.20708 for details.\n",
      "  legacy_ei_numerics_warning(legacy_name=type(self).__name__)\n",
      "/home/mjoudy/miniconda3/envs/bbo_env/lib/python3.10/site-packages/botorch/models/utils/assorted.py:270: InputDataWarning: Data (input features) is not contained to the unit cube. Please consider min-max scaling the input data.\n",
      "  check_min_max_scaling(\n"
     ]
    },
    {
     "name": "stdout",
     "output_type": "stream",
     "text": [
      "Current best R²: -0.1930\n",
      "\n",
      "=== Iteration 4 ===\n"
     ]
    },
    {
     "name": "stderr",
     "output_type": "stream",
     "text": [
      "/home/mjoudy/miniconda3/envs/bbo_env/lib/python3.10/site-packages/botorch/acquisition/monte_carlo.py:396: NumericsWarning: qExpectedImprovement has known numerical issues that lead to suboptimal optimization performance. It is strongly recommended to simply replace\n",
      "\n",
      "\t qExpectedImprovement \t --> \t qLogExpectedImprovement \n",
      "\n",
      "instead, which fixes the issues and has the same API. See https://arxiv.org/abs/2310.20708 for details.\n",
      "  legacy_ei_numerics_warning(legacy_name=type(self).__name__)\n",
      "/home/mjoudy/miniconda3/envs/bbo_env/lib/python3.10/site-packages/botorch/models/utils/assorted.py:270: InputDataWarning: Data (input features) is not contained to the unit cube. Please consider min-max scaling the input data.\n",
      "  check_min_max_scaling(\n"
     ]
    },
    {
     "name": "stdout",
     "output_type": "stream",
     "text": [
      "Current best R²: -0.1930\n",
      "\n",
      "=== Iteration 5 ===\n"
     ]
    },
    {
     "name": "stderr",
     "output_type": "stream",
     "text": [
      "/home/mjoudy/miniconda3/envs/bbo_env/lib/python3.10/site-packages/botorch/acquisition/monte_carlo.py:396: NumericsWarning: qExpectedImprovement has known numerical issues that lead to suboptimal optimization performance. It is strongly recommended to simply replace\n",
      "\n",
      "\t qExpectedImprovement \t --> \t qLogExpectedImprovement \n",
      "\n",
      "instead, which fixes the issues and has the same API. See https://arxiv.org/abs/2310.20708 for details.\n",
      "  legacy_ei_numerics_warning(legacy_name=type(self).__name__)\n",
      "/home/mjoudy/miniconda3/envs/bbo_env/lib/python3.10/site-packages/botorch/models/utils/assorted.py:270: InputDataWarning: Data (input features) is not contained to the unit cube. Please consider min-max scaling the input data.\n",
      "  check_min_max_scaling(\n"
     ]
    },
    {
     "name": "stdout",
     "output_type": "stream",
     "text": [
      "Current best R²: -0.1930\n",
      "\n",
      "=== Iteration 6 ===\n"
     ]
    },
    {
     "name": "stderr",
     "output_type": "stream",
     "text": [
      "/home/mjoudy/miniconda3/envs/bbo_env/lib/python3.10/site-packages/botorch/acquisition/monte_carlo.py:396: NumericsWarning: qExpectedImprovement has known numerical issues that lead to suboptimal optimization performance. It is strongly recommended to simply replace\n",
      "\n",
      "\t qExpectedImprovement \t --> \t qLogExpectedImprovement \n",
      "\n",
      "instead, which fixes the issues and has the same API. See https://arxiv.org/abs/2310.20708 for details.\n",
      "  legacy_ei_numerics_warning(legacy_name=type(self).__name__)\n",
      "/home/mjoudy/miniconda3/envs/bbo_env/lib/python3.10/site-packages/botorch/models/utils/assorted.py:270: InputDataWarning: Data (input features) is not contained to the unit cube. Please consider min-max scaling the input data.\n",
      "  check_min_max_scaling(\n"
     ]
    },
    {
     "name": "stdout",
     "output_type": "stream",
     "text": [
      "Current best R²: -0.1930\n",
      "\n",
      "=== Iteration 7 ===\n"
     ]
    },
    {
     "name": "stderr",
     "output_type": "stream",
     "text": [
      "/home/mjoudy/miniconda3/envs/bbo_env/lib/python3.10/site-packages/botorch/acquisition/monte_carlo.py:396: NumericsWarning: qExpectedImprovement has known numerical issues that lead to suboptimal optimization performance. It is strongly recommended to simply replace\n",
      "\n",
      "\t qExpectedImprovement \t --> \t qLogExpectedImprovement \n",
      "\n",
      "instead, which fixes the issues and has the same API. See https://arxiv.org/abs/2310.20708 for details.\n",
      "  legacy_ei_numerics_warning(legacy_name=type(self).__name__)\n",
      "/home/mjoudy/miniconda3/envs/bbo_env/lib/python3.10/site-packages/botorch/models/utils/assorted.py:270: InputDataWarning: Data (input features) is not contained to the unit cube. Please consider min-max scaling the input data.\n",
      "  check_min_max_scaling(\n"
     ]
    },
    {
     "name": "stdout",
     "output_type": "stream",
     "text": [
      "Current best R²: -0.1930\n",
      "\n",
      "=== Iteration 8 ===\n"
     ]
    },
    {
     "name": "stderr",
     "output_type": "stream",
     "text": [
      "/home/mjoudy/miniconda3/envs/bbo_env/lib/python3.10/site-packages/botorch/acquisition/monte_carlo.py:396: NumericsWarning: qExpectedImprovement has known numerical issues that lead to suboptimal optimization performance. It is strongly recommended to simply replace\n",
      "\n",
      "\t qExpectedImprovement \t --> \t qLogExpectedImprovement \n",
      "\n",
      "instead, which fixes the issues and has the same API. See https://arxiv.org/abs/2310.20708 for details.\n",
      "  legacy_ei_numerics_warning(legacy_name=type(self).__name__)\n",
      "/home/mjoudy/miniconda3/envs/bbo_env/lib/python3.10/site-packages/botorch/models/utils/assorted.py:270: InputDataWarning: Data (input features) is not contained to the unit cube. Please consider min-max scaling the input data.\n",
      "  check_min_max_scaling(\n"
     ]
    },
    {
     "name": "stdout",
     "output_type": "stream",
     "text": [
      "Current best R²: -0.1930\n",
      "\n",
      "=== Iteration 9 ===\n"
     ]
    },
    {
     "name": "stderr",
     "output_type": "stream",
     "text": [
      "/home/mjoudy/miniconda3/envs/bbo_env/lib/python3.10/site-packages/botorch/acquisition/monte_carlo.py:396: NumericsWarning: qExpectedImprovement has known numerical issues that lead to suboptimal optimization performance. It is strongly recommended to simply replace\n",
      "\n",
      "\t qExpectedImprovement \t --> \t qLogExpectedImprovement \n",
      "\n",
      "instead, which fixes the issues and has the same API. See https://arxiv.org/abs/2310.20708 for details.\n",
      "  legacy_ei_numerics_warning(legacy_name=type(self).__name__)\n",
      "/home/mjoudy/miniconda3/envs/bbo_env/lib/python3.10/site-packages/botorch/models/utils/assorted.py:270: InputDataWarning: Data (input features) is not contained to the unit cube. Please consider min-max scaling the input data.\n",
      "  check_min_max_scaling(\n"
     ]
    },
    {
     "name": "stdout",
     "output_type": "stream",
     "text": [
      "Current best R²: -0.1930\n",
      "\n",
      "=== Iteration 10 ===\n"
     ]
    },
    {
     "name": "stderr",
     "output_type": "stream",
     "text": [
      "/home/mjoudy/miniconda3/envs/bbo_env/lib/python3.10/site-packages/botorch/acquisition/monte_carlo.py:396: NumericsWarning: qExpectedImprovement has known numerical issues that lead to suboptimal optimization performance. It is strongly recommended to simply replace\n",
      "\n",
      "\t qExpectedImprovement \t --> \t qLogExpectedImprovement \n",
      "\n",
      "instead, which fixes the issues and has the same API. See https://arxiv.org/abs/2310.20708 for details.\n",
      "  legacy_ei_numerics_warning(legacy_name=type(self).__name__)\n",
      "/home/mjoudy/miniconda3/envs/bbo_env/lib/python3.10/site-packages/botorch/models/utils/assorted.py:270: InputDataWarning: Data (input features) is not contained to the unit cube. Please consider min-max scaling the input data.\n",
      "  check_min_max_scaling(\n"
     ]
    },
    {
     "name": "stdout",
     "output_type": "stream",
     "text": [
      "Current best R²: -0.1930\n"
     ]
    }
   ],
   "source": [
    "n_iterations = 10\n",
    "batch_size = 5\n",
    "best_values = []\n",
    "\n",
    "for iteration in range(n_iterations):\n",
    "    print(f\"\\n=== Iteration {iteration + 1} ===\")\n",
    "    \n",
    "    # Define acquisition function\n",
    "    qEI = qExpectedImprovement(\n",
    "        model=model,\n",
    "        best_f=train_obj.max(),\n",
    "        sampler=SobolQMCNormalSampler(sample_shape=torch.Size([500]))\n",
    "\n",
    "    )\n",
    "    \n",
    "    # Optimize acquisition function\n",
    "    candidates, _ = optimize_acqf(\n",
    "        acq_function=qEI,\n",
    "        bounds=bounds,\n",
    "        q=batch_size,\n",
    "        num_restarts=10,\n",
    "        raw_samples=100\n",
    "    )\n",
    "    \n",
    "    # Evaluate new candidates\n",
    "    new_obj = torch.tensor([train_evaluate(x) for x in candidates], dtype=torch.double).unsqueeze(-1)\n",
    "    \n",
    "    # Update training data\n",
    "    train_x = torch.cat([train_x, candidates], dim=0)\n",
    "    train_obj = torch.cat([train_obj, new_obj], dim=0)\n",
    "    \n",
    "    # Refit model\n",
    "    model = SingleTaskGP(train_x, train_obj)\n",
    "    mll = ExactMarginalLogLikelihood(model.likelihood, model)\n",
    "    fit_gpytorch_mll(mll)\n",
    "    \n",
    "    # Print current best R²\n",
    "    best_values.append(train_obj.max().item())\n",
    "    print(f\"Current best R²: {train_obj.max().item():.4f}\")\n"
   ]
  },
  {
   "cell_type": "code",
   "execution_count": 48,
   "id": "5ea9a47b",
   "metadata": {},
   "outputs": [
    {
     "data": {
      "image/png": "[encoded data removed]",
      "text/plain": [
       "<Figure size 640x480 with 1 Axes>"
      ]
     },
     "metadata": {},
     "output_type": "display_data"
    }
   ],
   "source": [
    "# Plot convergence\n",
    "plt.plot(best_values)\n",
    "plt.xlabel('Iteration')\n",
    "plt.ylabel('Best objective so far (-MSE)')\n",
    "plt.title('BO convergence')\n",
    "plt.grid()\n",
    "plt.show()\n"
   ]
  },
  {
   "cell_type": "code",
   "execution_count": 52,
   "id": "3caafd6f",
   "metadata": {},
   "outputs": [
    {
     "name": "stdout",
     "output_type": "stream",
     "text": [
      "tensor([[-0.2309],\n",
      "        [-0.2652],\n",
      "        [-0.2067],\n",
      "        [-0.2531],\n",
      "        [-0.3168],\n",
      "        [-0.2475],\n",
      "        [-0.2235],\n",
      "        [-0.2917],\n",
      "        [-0.2503],\n",
      "        [-0.2220],\n",
      "        [-0.2213],\n",
      "        [-0.3057],\n",
      "        [-0.2604],\n",
      "        [-0.2637],\n",
      "        [-0.2466],\n",
      "        [-0.2640],\n",
      "        [-0.2358],\n",
      "        [-0.2743],\n",
      "        [-0.2443],\n",
      "        [-0.3247],\n",
      "        [-0.2127],\n",
      "        [-0.2065],\n",
      "        [-0.2794],\n",
      "        [-0.2341],\n",
      "        [-0.2525],\n",
      "        [-0.2097],\n",
      "        [-0.4424],\n",
      "        [-0.2481],\n",
      "        [-0.2094],\n",
      "        [-0.2092],\n",
      "        [-0.2158],\n",
      "        [-0.2186],\n",
      "        [-0.2105],\n",
      "        [-0.2034],\n",
      "        [-0.2468],\n",
      "        [-0.1980],\n",
      "        [-0.2957],\n",
      "        [-0.2150],\n",
      "        [-0.3276],\n",
      "        [-0.2034],\n",
      "        [-0.2686],\n",
      "        [-0.2622],\n",
      "        [-0.5277],\n",
      "        [-0.2476],\n",
      "        [-0.2014],\n",
      "        [-0.2240],\n",
      "        [-0.2704],\n",
      "        [-0.2388],\n",
      "        [-0.1993],\n",
      "        [-0.2460],\n",
      "        [-0.2142],\n",
      "        [-0.1987],\n",
      "        [-0.1930],\n",
      "        [-0.2552],\n",
      "        [-0.2480],\n",
      "        [-0.1956],\n",
      "        [-0.2506],\n",
      "        [-0.2819],\n",
      "        [-0.4985],\n",
      "        [-0.2080],\n",
      "        [-0.2872],\n",
      "        [-0.2474],\n",
      "        [-0.2039],\n",
      "        [-0.2660],\n",
      "        [-0.2707],\n",
      "        [-0.1990],\n",
      "        [-0.2200],\n",
      "        [-0.2396],\n",
      "        [-0.2501],\n",
      "        [-0.2101],\n",
      "        [-0.2161],\n",
      "        [-0.2053],\n",
      "        [-0.6395],\n",
      "        [-0.2631],\n",
      "        [-0.2607],\n",
      "        [-0.2724],\n",
      "        [-0.2292],\n",
      "        [-0.6704],\n",
      "        [-0.3137],\n",
      "        [-0.2273],\n",
      "        [-0.2299],\n",
      "        [-0.2188],\n",
      "        [-0.2355],\n",
      "        [-0.1975],\n",
      "        [-0.3957],\n",
      "        [-0.2348],\n",
      "        [-0.2498],\n",
      "        [-0.6783],\n",
      "        [-0.2288],\n",
      "        [-0.2069],\n",
      "        [-0.2930],\n",
      "        [-0.2151],\n",
      "        [-0.2622],\n",
      "        [-0.2544],\n",
      "        [-0.2047],\n",
      "        [-0.2095],\n",
      "        [-0.2299],\n",
      "        [-0.6121],\n",
      "        [-0.2007],\n",
      "        [-0.3158],\n",
      "        [-0.2598],\n",
      "        [-0.3511],\n",
      "        [-0.2605],\n",
      "        [-0.2595],\n",
      "        [-0.2659],\n",
      "        [-0.2437],\n",
      "        [-0.2127],\n",
      "        [-0.2287],\n",
      "        [-0.2051],\n",
      "        [-0.2110],\n",
      "        [-0.2019],\n",
      "        [-0.6322],\n",
      "        [-0.2209],\n",
      "        [-0.3018],\n",
      "        [-0.2344],\n",
      "        [-0.2125],\n",
      "        [-0.1999],\n",
      "        [-0.2037],\n",
      "        [-0.2071],\n",
      "        [-0.5507],\n",
      "        [-0.2062],\n",
      "        [-0.2070],\n",
      "        [-0.2512],\n",
      "        [-0.2579],\n",
      "        [-0.2021]], dtype=torch.float64)\n"
     ]
    }
   ],
   "source": [
    "print(train_obj)"
   ]
  },
  {
   "cell_type": "code",
   "execution_count": 50,
   "id": "703b3d51",
   "metadata": {},
   "outputs": [
    {
     "name": "stdout",
     "output_type": "stream",
     "text": [
      "tensor([[ 0.1687, 10.0000,  1.0000,  1.0000,  1.0000,  0.0000,  5.0000,  5.0000],\n",
      "        [ 0.0801, 10.0000,  1.0000,  1.0000,  0.5000,  0.0000,  5.0000,  0.0000],\n",
      "        [ 0.2936,  7.0035,  8.6482,  0.7602,  0.5001,  4.5118,  1.8908,  0.4694],\n",
      "        [ 0.0787,  5.1550,  3.7582,  0.5000,  0.7070,  3.3438,  0.0000,  0.0000],\n",
      "        [ 0.1069, 10.0000,  1.0000,  1.0000,  0.5000,  0.0000,  5.0000,  5.0000]],\n",
      "       dtype=torch.float64)\n"
     ]
    }
   ],
   "source": [
    "print(candidates)"
   ]
  },
  {
   "cell_type": "code",
   "execution_count": 51,
   "id": "29a75ba4",
   "metadata": {},
   "outputs": [
    {
     "name": "stdout",
     "output_type": "stream",
     "text": [
      "[-0.19301746155638247, -0.19301746155638247, -0.19301746155638247, -0.19301746155638247, -0.19301746155638247, -0.19301746155638247, -0.19301746155638247, -0.19301746155638247, -0.19301746155638247, -0.19301746155638247]\n"
     ]
    }
   ],
   "source": [
    "print(best_values)"
   ]
  },
  {
   "cell_type": "code",
   "execution_count": null,
   "id": "4380d2db",
   "metadata": {},
   "outputs": [],
   "source": []
  }
 ],
 "metadata": {
  "kernelspec": {
   "display_name": "bbo_env",
   "language": "python",
   "name": "python3"
  },
  "language_info": {
   "codemirror_mode": {
    "name": "ipython",
    "version": 3
   },
   "file_extension": ".py",
   "mimetype": "text/x-python",
   "name": "python",
   "nbconvert_exporter": "python",
   "pygments_lexer": "ipython3",
   "version": "3.10.14"
  }
 },
 "nbformat": 4,
 "nbformat_minor": 5
}
