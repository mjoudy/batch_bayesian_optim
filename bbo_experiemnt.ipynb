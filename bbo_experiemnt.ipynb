{
 "cells": [
  {
   "cell_type": "code",
   "execution_count": 1,
   "id": "0d509b41",
   "metadata": {},
   "outputs": [],
   "source": [
    "import pandas as pd\n",
    "from sklearn.preprocessing import MinMaxScaler\n",
    "from optimizer.skopt_optimizer import SkoptOptimizer\n",
    "from optimizer.botorch_optimizer import BoTorchOptimizer\n",
    "from simulator import NearestNeighborSimulator\n",
    "from utils.helpers import *"
   ]
  },
  {
   "cell_type": "code",
   "execution_count": 2,
   "id": "62fc2685",
   "metadata": {},
   "outputs": [],
   "source": [
    "df = pd.read_csv(\"data/concrete_data.csv\").dropna()\n",
    "X = df.iloc[:, :-1].values\n",
    "y = df.iloc[:, -1].values\n",
    "X_scaled = MinMaxScaler().fit_transform(X)"
   ]
  },
  {
   "cell_type": "code",
   "execution_count": 3,
   "id": "7c78ff2b",
   "metadata": {},
   "outputs": [
    {
     "data": {
      "text/html": [
       "<div>\n",
       "<style scoped>\n",
       "    .dataframe tbody tr th:only-of-type {\n",
       "        vertical-align: middle;\n",
       "    }\n",
       "\n",
       "    .dataframe tbody tr th {\n",
       "        vertical-align: top;\n",
       "    }\n",
       "\n",
       "    .dataframe thead th {\n",
       "        text-align: right;\n",
       "    }\n",
       "</style>\n",
       "<table border=\"1\" class=\"dataframe\">\n",
       "  <thead>\n",
       "    <tr style=\"text-align: right;\">\n",
       "      <th></th>\n",
       "      <th>cement</th>\n",
       "      <th>blast_furnace_slag</th>\n",
       "      <th>fly_ash</th>\n",
       "      <th>water</th>\n",
       "      <th>superplasticizer</th>\n",
       "      <th>coarse_aggregate</th>\n",
       "      <th>fine_aggregate</th>\n",
       "      <th>age</th>\n",
       "      <th>strength</th>\n",
       "    </tr>\n",
       "  </thead>\n",
       "  <tbody>\n",
       "    <tr>\n",
       "      <th>0</th>\n",
       "      <td>540.0</td>\n",
       "      <td>0.0</td>\n",
       "      <td>0.0</td>\n",
       "      <td>162.0</td>\n",
       "      <td>2.5</td>\n",
       "      <td>1040.0</td>\n",
       "      <td>676.0</td>\n",
       "      <td>28.0</td>\n",
       "      <td>79.986111</td>\n",
       "    </tr>\n",
       "    <tr>\n",
       "      <th>1</th>\n",
       "      <td>540.0</td>\n",
       "      <td>0.0</td>\n",
       "      <td>0.0</td>\n",
       "      <td>162.0</td>\n",
       "      <td>2.5</td>\n",
       "      <td>1055.0</td>\n",
       "      <td>676.0</td>\n",
       "      <td>28.0</td>\n",
       "      <td>61.887366</td>\n",
       "    </tr>\n",
       "    <tr>\n",
       "      <th>2</th>\n",
       "      <td>332.5</td>\n",
       "      <td>142.5</td>\n",
       "      <td>0.0</td>\n",
       "      <td>228.0</td>\n",
       "      <td>0.0</td>\n",
       "      <td>932.0</td>\n",
       "      <td>594.0</td>\n",
       "      <td>270.0</td>\n",
       "      <td>40.269535</td>\n",
       "    </tr>\n",
       "    <tr>\n",
       "      <th>3</th>\n",
       "      <td>332.5</td>\n",
       "      <td>142.5</td>\n",
       "      <td>0.0</td>\n",
       "      <td>228.0</td>\n",
       "      <td>0.0</td>\n",
       "      <td>932.0</td>\n",
       "      <td>594.0</td>\n",
       "      <td>365.0</td>\n",
       "      <td>41.052780</td>\n",
       "    </tr>\n",
       "    <tr>\n",
       "      <th>4</th>\n",
       "      <td>198.6</td>\n",
       "      <td>132.4</td>\n",
       "      <td>0.0</td>\n",
       "      <td>192.0</td>\n",
       "      <td>0.0</td>\n",
       "      <td>978.4</td>\n",
       "      <td>825.5</td>\n",
       "      <td>360.0</td>\n",
       "      <td>44.296075</td>\n",
       "    </tr>\n",
       "  </tbody>\n",
       "</table>\n",
       "</div>"
      ],
      "text/plain": [
       "   cement  blast_furnace_slag  fly_ash  water  superplasticizer  \\\n",
       "0   540.0                 0.0      0.0  162.0               2.5   \n",
       "1   540.0                 0.0      0.0  162.0               2.5   \n",
       "2   332.5               142.5      0.0  228.0               0.0   \n",
       "3   332.5               142.5      0.0  228.0               0.0   \n",
       "4   198.6               132.4      0.0  192.0               0.0   \n",
       "\n",
       "   coarse_aggregate  fine_aggregate    age   strength  \n",
       "0            1040.0           676.0   28.0  79.986111  \n",
       "1            1055.0           676.0   28.0  61.887366  \n",
       "2             932.0           594.0  270.0  40.269535  \n",
       "3             932.0           594.0  365.0  41.052780  \n",
       "4             978.4           825.5  360.0  44.296075  "
      ]
     },
     "execution_count": 3,
     "metadata": {},
     "output_type": "execute_result"
    }
   ],
   "source": [
    "df.head()"
   ]
  },
  {
   "cell_type": "code",
   "execution_count": 4,
   "id": "8e3b549d",
   "metadata": {},
   "outputs": [],
   "source": [
    "simulator = NearestNeighborSimulator(X_scaled, y)"
   ]
  },
  {
   "cell_type": "markdown",
   "id": "51dfcb01",
   "metadata": {},
   "source": [
    "### 📌 Acquisition Functions in Bayesian Optimization\n",
    "\n",
    "In Bayesian Optimization, the **acquisition function** decides where to sample next based on the surrogate model (e.g., a Gaussian Process). Different acquisition functions balance **exploration** (searching uncertain areas) and **exploitation** (focusing on promising areas):\n",
    "\n",
    "- **EI (Expected Improvement)**  \n",
    "  Prioritizes points expected to improve over the current best value.  \n",
    "  🔁 *Good general-purpose choice, balances exploration and exploitation.*\n",
    "\n",
    "- **PI (Probability of Improvement)**  \n",
    "  Selects points most likely to beat the current best, without considering how much improvement occurs.  \n",
    "  🎯 *Focused on exploitation; may converge quickly but risks missing better areas.*\n",
    "\n",
    "- **LCB (Lower Confidence Bound)**  \n",
    "  Chooses points using the formula:  \n",
    "  \\[\n",
    "  \\mu(x) - \\kappa \\cdot \\sigma(x)\n",
    "  \\]  \n",
    "  where \\(\\mu(x)\\) is the predicted mean and \\(\\sigma(x)\\) is the uncertainty.  \n",
    "  🚀 *Encourages exploration by favoring uncertain regions; good for noisy or under-sampled problems.*\n",
    "\n",
    "---\n",
    "\n",
    "In the following analysis, we run the optimization with each acquisition function to observe their different behaviors and convergence patterns.\n"
   ]
  },
  {
   "cell_type": "code",
   "execution_count": 5,
   "id": "7d2e8fec",
   "metadata": {},
   "outputs": [
    {
     "name": "stdout",
     "output_type": "stream",
     "text": [
      "[skopt] Iter 1/10 - Best: 56.6191\n",
      "[skopt] Iter 2/10 - Best: 73.2982\n",
      "[skopt] Iter 3/10 - Best: 73.2982\n",
      "[skopt] Iter 4/10 - Best: 73.2982\n",
      "[skopt] Iter 5/10 - Best: 73.2982\n",
      "[skopt] Iter 6/10 - Best: 73.2982\n",
      "[skopt] Iter 7/10 - Best: 73.2982\n",
      "[skopt] Iter 8/10 - Best: 73.2982\n",
      "[skopt] Iter 9/10 - Best: 73.2982\n",
      "[skopt] Iter 10/10 - Best: 73.2982\n",
      "[skopt] Iter 1/10 - Best: 56.6191\n",
      "[skopt] Iter 2/10 - Best: 73.2982\n"
     ]
    }
   ],
   "source": [
    "iterations = 10\n",
    "batch_size = 3\n",
    "dim = X_scaled.shape[1]\n",
    "\n",
    "acq_funcs = [\"EI\", \"PI\", \"LCB\"]\n",
    "traces = {}\n",
    "\n",
    "for acq in acq_funcs:\n",
    "    skopt_opt = SkoptOptimizer(\n",
    "        dim=dim,\n",
    "        batch_size=batch_size,\n",
    "        acq_func=acq,\n",
    "        acq_optimizer=\"auto\",\n",
    "        n_initial_points=5\n",
    "    )\n",
    "    trace = run_skopt(skopt_opt, simulator, iterations)\n",
    "    traces[f\"skopt-{acq}\"] = trace"
   ]
  },
  {
   "cell_type": "code",
   "execution_count": 6,
   "id": "f9bc4237",
   "metadata": {},
   "outputs": [
    {
     "data": {
      "image/png": "[encoded data removed]",
      "text/plain": [
       "<Figure size 800x500 with 1 Axes>"
      ]
     },
     "metadata": {},
     "output_type": "display_data"
    }
   ],
   "source": [
    "plot_trace(traces, title=\"skopt Acquisition Function Comparison\")"
   ]
  },
  {
   "cell_type": "code",
   "execution_count": null,
   "id": "d6b9ef44",
   "metadata": {},
   "outputs": [],
   "source": []
  }
 ],
 "metadata": {
  "kernelspec": {
   "display_name": "bbo_env",
   "language": "python",
   "name": "python3"
  },
  "language_info": {
   "codemirror_mode": {
    "name": "ipython",
    "version": 3
   },
   "file_extension": ".py",
   "mimetype": "text/x-python",
   "name": "python",
   "nbconvert_exporter": "python",
   "pygments_lexer": "ipython3",
   "version": "3.10.14"
  }
 },
 "nbformat": 4,
 "nbformat_minor": 5
}
